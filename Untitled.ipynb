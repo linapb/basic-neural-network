{
 "cells": [
  {
   "cell_type": "markdown",
   "metadata": {},
   "source": [
    "# My First Neural Network "
   ]
  },
  {
   "cell_type": "markdown",
   "metadata": {},
   "source": [
    "## Creating data \n Two tipes woman and man"
   ]
  },
  {
   "cell_type": "code",
   "execution_count": 3,
   "metadata": {
    "collapsed": true
   },
   "outputs": [],
   "source": [
    "# -*- coding: utf-8 -*-\n",
    "\"\"\"\n",
    "Created on Fri May 06 21:27:50 2016\n",
    "\n",
    "@author: Lina\n",
    "\"\"\"\n",
    "\n",
    "import numpy as np\n",
    "\n",
    "# input =      [use lipstick, wear highheels, do eyebrows, love football]\n",
    "# output= [woman=1 or man=0]\n",
    "# woman = Prob [1,              0.5,          1,           0.25]\n",
    "# man   = Prob [0,              0,            0.25,        0.75]\n",
    "\n",
    "# generate woman\n",
    "\n",
    "np.random.seed(5)\n",
    "\n",
    "woman = np.random.random([10,4])\n",
    "\n",
    "for i in range(10):\n",
    "    woman[i][0]=1\n",
    "    \n",
    "    if woman[i][1]<0.5:\n",
    "        woman[i][1]=1\n",
    "    else:\n",
    "        woman[i][1]=0\n",
    "        \n",
    "    woman[i][2]=1\n",
    "    \n",
    "    if woman[i][3]<0.25:\n",
    "        woman[i][3]=1\n",
    "    else:\n",
    "        woman[i][3]=0\n",
    "    \n",
    "\n",
    "\n",
    "man = np.random.random([10,4])\n",
    "\n",
    "for i in range(10):\n",
    "    man[i][0]=0\n",
    "    man[i][1]=0\n",
    "        \n",
    "    if man[i][2]<0.25:\n",
    "        man[i][2]=1\n",
    "    else:\n",
    "        man[i][2]=0\n",
    "        \n",
    "    if man[i][3]<0.75:\n",
    "        man[i][3]=1\n",
    "    else:\n",
    "        man[i][3]=0\n"
   ]
  },
  {
   "cell_type": "markdown",
   "metadata": {},
   "source": [
    "## Start our neural network"
   ]
  },
  {
   "cell_type": "code",
   "execution_count": 1,
   "metadata": {
    "collapsed": false,
    "scrolled": false
   },
   "outputs": [
    {
     "name": "stdout",
     "output_type": "stream",
     "text": [
      "\n",
      " output: \n",
      "['woman', 'woman', 'woman', 'woman', 'woman', 'woman', 'woman', 'woman', 'woman', 'woman', 'man', 'man', 'man', 'man', 'man', 'man', 'man', 'man', 'man', 'man']\n",
      "\n",
      " guess: \n",
      "['woman', 'woman', 'woman', 'woman', 'woman', 'woman', 'woman', 'woman', 'woman', 'woman', 'man', 'man', 'man', 'man', 'man', 'man', 'man', 'man', 'man', 'man']\n",
      "\n",
      " wages: \n",
      "[ 7.85153869  2.87978832  3.64147189 -3.68754489 -5.35207542]\n",
      "\n",
      " error: \n",
      "[ 0.  0.  0.  0.  0.  0.  0.  0.  0.  0.  0.  0.  0.  0.  0.  0.  0.  0.\n",
      "  0.  0.]\n",
      "\n",
      " test: \n",
      "[ 6.14093516  9.02072348  6.14093516  2.45339027  9.02072348]\n"
     ]
    }
   ],
   "source": [
    " \n",
    " \n",
    "# start our neural network\n",
    "input = np.concatenate((woman,man))\n",
    "\n",
    "bias = [[1,1,1,1,1,1,1,1,1,1,1,1,1,1,1,1,1,1,1,1]]\n",
    "\n",
    "l0 = input.T\n",
    "l0 = np.concatenate((l0, bias))\n",
    "l0=l0.T\n",
    "\n",
    "\n",
    "guess = ['','','','','','','','','','','','','','','','','','','','']\n",
    "\n",
    "output = ['woman','woman','woman','woman','woman','woman','woman','woman','woman','woman', 'man','man','man','man','man','man','man','man','man','man']\n",
    "output = [1,1,1,1,1,1,1,1,1,1,0,0,0,0,0,0,0,0,0,0]\n",
    "\n",
    "wages = 2*np.random.random(4+1)-1\n",
    "\n",
    "for i in range(1000):\n",
    "    \n",
    "    activationvalue = np.dot(l0, wages.T)\n",
    "            \n",
    "    #activation function     \n",
    "    for j in range(len(activationvalue)):\n",
    "        guess[j]=1/(1+np.exp(-activationvalue[j]))\n",
    "     \n",
    "    #error   \n",
    "    error= np.array(output) - np.array(guess)\n",
    "     \n",
    "    #new wages\n",
    "    delta = np.dot(error,l0)*0.1       \n",
    "    wages += delta\n",
    "        \n",
    "\n",
    "\n",
    "#just perfom nicely\n",
    "guess2= ['','','','','','','','','','','','','','','','','','','','']\n",
    "for i in range(len(output)):\n",
    "    if guess[i]<0.5:\n",
    "        guess2[i]='man'\n",
    "    else:\n",
    "        guess2[i]='woman'\n",
    "\n",
    "output = ['woman','woman','woman','woman','woman','woman','woman','woman','woman','woman', 'man','man','man','man','man','man','man','man','man','man']\n",
    "for i in range(len(output)):\n",
    "    if guess2[i]==output[i]:\n",
    "        error[i]=0\n",
    "    else:\n",
    "        error[i]=1\n",
    "\n",
    "print '\\n output: \\n', output\n",
    "print '\\n guess: \\n',  guess2       \n",
    "print '\\n wages: \\n', wages\n",
    "print '\\n error: \\n', error\n",
    "\n",
    "\n",
    "# check for other inputs\n",
    "\n",
    "woman = np.random.random([5,4+1])\n",
    "\n",
    "for i in range(5):\n",
    "    woman[i][0]=1\n",
    "    \n",
    "    if woman[i][1]<0.5:\n",
    "        woman[i][1]=1\n",
    "    else:\n",
    "        woman[i][1]=0\n",
    "        \n",
    "    woman[i][2]=1\n",
    "    \n",
    "    if woman[i][3]<0.25:\n",
    "        woman[i][3]=1\n",
    "    else:\n",
    "        woman[i][3]=0\n",
    "    \n",
    "    woman[i][4]=1   \n",
    "        \n",
    "        \n",
    "print '\\n test: \\n', np.dot(woman, wages.T)\n",
    "\n",
    "\n",
    " "
   ]
  },
  {
   "cell_type": "code",
   "execution_count": null,
   "metadata": {
    "collapsed": true
   },
   "outputs": [],
   "source": []
  }
 ],
 "metadata": {
  "kernelspec": {
   "display_name": "Python 2",
   "language": "python",
   "name": "python2"
  },
  "language_info": {
   "codemirror_mode": {
    "name": "ipython",
    "version": 2
   },
   "file_extension": ".py",
   "mimetype": "text/x-python",
   "name": "python",
   "nbconvert_exporter": "python",
   "pygments_lexer": "ipython2",
   "version": "2.7.9"
  }
 },
 "nbformat": 4,
 "nbformat_minor": 0
}
